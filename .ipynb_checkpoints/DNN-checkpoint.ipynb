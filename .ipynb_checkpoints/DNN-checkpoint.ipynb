{
 "cells": [
  {
   "cell_type": "markdown",
   "metadata": {
    "_cell_guid": "e38d4bc5-fee2-0f42-feb3-c2716bfeabdf",
    "_uuid": "599d9ca08cb26c1f68a74eb9bfb6b9f7e9e945b8"
   },
   "source": [
    "This is a notebook to play around with TensorFlow and convolutional neural networks.\n",
    "\n",
    "We're using a convnet with the following structure (like VGGNet but smaller):\n",
    "\n",
    "    input    28x28x1\n",
    "    conv1_1  32 kernels\n",
    "    conv1_2  32 kernels\n",
    "    pool1    14x14x32\n",
    "    conv2_1  64 kernels\n",
    "    conv2_2  64 kernels\n",
    "    pool2    7x7x64\n",
    "    fc3      7x7x64x128   with dropout\n",
    "    fc4      128          with dropout\n",
    "    fc5      10           softmax\n",
    "    \n",
    "All convolutions are 3x3. All pooling is 2x2."
   ]
  },
  {
   "cell_type": "code",
   "execution_count": 1,
   "metadata": {
    "_cell_guid": "108c8c49-88a7-8c55-44e9-7608a8f90f8c",
    "_uuid": "0232eb4ba9f2a88991a670ad2a01d79e4fe72b11"
   },
   "outputs": [
    {
     "name": "stderr",
     "output_type": "stream",
     "text": [
      "/opt/conda/lib/python3.6/importlib/_bootstrap.py:205: RuntimeWarning: compiletime version 3.5 of module 'tensorflow.python.framework.fast_tensor_util' does not match runtime version 3.6\n",
      "  return f(*args, **kwds)\n"
     ]
    }
   ],
   "source": [
    "import numpy as np\n",
    "import pandas as pd\n",
    "import tensorflow as tf\n",
    "\n",
    "%matplotlib inline\n",
    "import matplotlib.pyplot as plt\n",
    "import matplotlib.cm as cm\n",
    "plt.rcParams['figure.figsize'] = (16.0, 8.0)   # change default figure size"
   ]
  },
  {
   "cell_type": "markdown",
   "metadata": {
    "_cell_guid": "7fa35589-87ac-cd0f-d49e-4523ed9467ab",
    "_uuid": "1405436e828d5e305019af00af0b23138660b1da"
   },
   "source": [
    "## Loading the data\n",
    "\n",
    "Each image is 28 pixels in height and 28 pixels in width, for a total of 784 pixels.\n",
    "\n",
    "The pixels are values between 0 and 255. We convert those to floats in the range 0.0 - 1.0.\n",
    "\n",
    "The training data has 42000 rows. Each row in the training data CSV begins with the label, followed by the 784 pixel values.\n",
    "\n",
    "The test set has 28000 rows, but we don't have the labels. For evaluating the network we'll make our own test set instead."
   ]
  },
  {
   "cell_type": "code",
   "execution_count": 2,
   "metadata": {},
   "outputs": [
    {
     "data": {
      "text/plain": [
       "2132"
      ]
     },
     "execution_count": 2,
     "metadata": {},
     "output_type": "execute_result"
    }
   ],
   "source": [
    "from glob import glob\n",
    "import cv2\n",
    "from random import shuffle\n",
    "\n",
    "path_data = []\n",
    "k = 0\n",
    "for i in glob('marcado/*.jpg'):\n",
    "    path_data.append(i)\n",
    "    k += 1\n",
    "kk = 0\n",
    "for i in glob('no_marcado/*.jpg'):\n",
    "    path_data.append(i)\n",
    "    kk += 1\n",
    "    if kk>k:\n",
    "        #break\n",
    "        pass\n",
    "    \n",
    "shuffle(path_data)\n",
    "data_X = []\n",
    "data_y = []\n",
    "for i in path_data:\n",
    "    data_X.append(cv2.resize(cv2.cvtColor(cv2.imread(i),cv2.COLOR_RGB2GRAY),(28,28)))\n",
    "    if('no' in i):\n",
    "        data_y.append(1)\n",
    "    else:\n",
    "        data_y.append(0)\n",
    "    \n",
    "image_width = 28\n",
    "image_height = 28\n",
    "num_pixels = image_width * image_height\n",
    "\n",
    "num_examples = len(data_X)\n",
    "num_examples"
   ]
  },
  {
   "cell_type": "code",
   "execution_count": 3,
   "metadata": {},
   "outputs": [],
   "source": [
    "def onehot(labels, num_outputs):\n",
    "    m = len(labels)\n",
    "    y = np.zeros((m, num_outputs))\n",
    "    for i, label in enumerate(labels):\n",
    "        y[i][int(label)] = 1.0\n",
    "    return y"
   ]
  },
  {
   "cell_type": "markdown",
   "metadata": {
    "_cell_guid": "b69170fd-1e70-e8b8-e01d-06f6e074bf85",
    "_uuid": "fea043c192c665e83d43032c27265ddaa43be1ee"
   },
   "source": [
    "Show the pixel data for a few images:"
   ]
  },
  {
   "cell_type": "code",
   "execution_count": 4,
   "metadata": {
    "_cell_guid": "9d79fdfe-ef43-fd50-4350-085d578fb49f",
    "_uuid": "0752e850384abf7c46bf88bce0c8167b4149a7b3"
   },
   "outputs": [
    {
     "data": {
      "image/png": "[encoded data removed]",
      "text/plain": [
       "<matplotlib.figure.Figure at 0x7f3ed30d9a58>"
      ]
     },
     "metadata": {},
     "output_type": "display_data"
    }
   ],
   "source": [
    "fig = plt.figure(figsize=(5, 5))\n",
    "num_horz = 4\n",
    "num_vert = 4\n",
    "for i in range(num_horz * num_vert):\n",
    "    ax = fig.add_subplot(num_vert, num_horz, i + 1, xticks=[], yticks=[])\n",
    "    image_data = data_X[i]#(data_X[i] * 255).reshape(image_width, image_height)\n",
    "    ax.imshow(image_data, cmap=cm.Greys_r, interpolation='none')"
   ]
  },
  {
   "cell_type": "markdown",
   "metadata": {
    "_cell_guid": "60edd0d7-1378-7804-4e3d-1704605c819e",
    "_uuid": "3035d8711a56e72c84eac43cc10769093a19518d"
   },
   "source": [
    "Randomly split the data into train, validate, and test sets. Ideally, each class is represented in equal amounts in the three sets.\n",
    "\n",
    "For speed reasons, we're not doing cross validation but will only use a single set of validation examples."
   ]
  },
  {
   "cell_type": "code",
   "execution_count": 5,
   "metadata": {
    "_cell_guid": "83da47a3-601d-6d9c-2f51-936c04d2acaf",
    "_uuid": "6ebf63423a1ff65a6eaeb64100c81408d618a02b"
   },
   "outputs": [],
   "source": [
    "np.random.seed(666)\n",
    "#indices = np.random.permutation(len(data_X))\n",
    "\n",
    "num_train = int(0.6 * num_examples)\n",
    "num_val = int(0.2 * num_examples)\n",
    "num_test = num_examples - num_val - num_train\n",
    "\n",
    "X_train = []\n",
    "X_train_ = data_X[:num_train]\n",
    "for elem in range(len(X_train_)):\n",
    "    X_train.append(X_train_[elem].flatten())\n",
    "y_train = data_y[:num_train]\n",
    "\n",
    "X_val = []\n",
    "X_val_   = data_X[num_train:-num_test]\n",
    "for elem in range(len(X_val_)):\n",
    "    X_val.append(X_val_[elem].flatten())\n",
    "y_val   = data_y[num_train:-num_test]\n",
    "\n",
    "X_test = []\n",
    "X_test_  = data_X[-num_test:]\n",
    "for elem in range(len(X_test_)):\n",
    "    X_test.append(X_test_[elem].flatten())\n",
    "y_test  = data_y[-num_test:]\n",
    "\n",
    "X_mean = np.zeros((1, num_pixels))\n",
    "X_std = np.zeros((1, num_pixels))\n",
    "\n",
    "y_train_labels = y_train\n",
    "y_val_labels   = y_val\n",
    "y_test_labels  = y_test\n",
    "\n",
    "y_train = onehot(y_train, 2)\n",
    "y_val   = onehot(y_val, 2)\n",
    "y_test  = onehot(y_test, 2)"
   ]
  },
  {
   "cell_type": "code",
   "execution_count": 6,
   "metadata": {
    "_cell_guid": "aab585f0-1a53-99ad-bb86-72fede35b6e5",
    "_uuid": "a502748823d0f1ff6b6640988e091c0987789c2c"
   },
   "outputs": [],
   "source": [
    "%xdel data_X\n",
    "%xdel data_y"
   ]
  },
  {
   "cell_type": "markdown",
   "metadata": {
    "_cell_guid": "dcdb6997-7b2f-7667-489a-20f043d33b8b",
    "_uuid": "97baa07e7935878325d26a93dfaa305afb38a275"
   },
   "source": [
    "Normalize the input data. Calculate the mean and standard deviation of each feature on the training data, not on validation or test examples."
   ]
  },
  {
   "cell_type": "code",
   "execution_count": 7,
   "metadata": {
    "_cell_guid": "67060559-e994-4ab9-6eec-1ed241f309e1",
    "_uuid": "230fa3a16d15bc6fb9b5a1f2f1829a1de637bd65"
   },
   "outputs": [],
   "source": [
    "X_mean = np.mean(X_train, axis=0, keepdims=True)\n",
    "X_std = np.std(X_train, axis=0, keepdims=True)\n",
    "\n",
    "X_train -= X_mean\n",
    "X_val   -= X_mean\n",
    "X_test  -= X_mean"
   ]
  },
  {
   "cell_type": "markdown",
   "metadata": {
    "_cell_guid": "442ad61f-a15b-722c-deaf-e581ff5a89e3",
    "_uuid": "c7e32ecc9f5bd9b57a20444d5abb30e2d0c3b122"
   },
   "source": [
    "Plot the mean image:"
   ]
  },
  {
   "cell_type": "code",
   "execution_count": 8,
   "metadata": {
    "_cell_guid": "4900e1a9-2826-2cf8-c64d-71a47cabeddd",
    "_uuid": "0e943c0c8846c8ab12a78061994ed5b4614fe7ef"
   },
   "outputs": [
    {
     "data": {
      "text/plain": [
       "<matplotlib.image.AxesImage at 0x7f3ed0938e80>"
      ]
     },
     "execution_count": 8,
     "metadata": {},
     "output_type": "execute_result"
    },
    {
     "data": {
      "image/png": "[encoded data removed]",
      "text/plain": [
       "<matplotlib.figure.Figure at 0x7f3ed0957390>"
      ]
     },
     "metadata": {},
     "output_type": "display_data"
    }
   ],
   "source": [
    "fig = plt.figure(figsize=(2, 2))\n",
    "ax = fig.add_subplot(1, 1, 1, xticks=[], yticks=[])\n",
    "ax.set_frame_on(False)\n",
    "ax.set_axis_off()\n",
    "image_data = (X_mean * 255).reshape(image_width, image_height)\n",
    "ax.imshow(image_data, cmap=cm.Greys_r, interpolation='none')"
   ]
  },
  {
   "cell_type": "markdown",
   "metadata": {},
   "source": [
    "Plot the std image:"
   ]
  },
  {
   "cell_type": "code",
   "execution_count": 9,
   "metadata": {},
   "outputs": [
    {
     "data": {
      "text/plain": [
       "<matplotlib.image.AxesImage at 0x7f3ed08b7d68>"
      ]
     },
     "execution_count": 9,
     "metadata": {},
     "output_type": "execute_result"
    },
    {
     "data": {
      "image/png": "[encoded data removed]",
      "text/plain": [
       "<matplotlib.figure.Figure at 0x7f3ed0943fd0>"
      ]
     },
     "metadata": {},
     "output_type": "display_data"
    }
   ],
   "source": [
    "fig = plt.figure(figsize=(2, 2))\n",
    "ax = fig.add_subplot(1, 1, 1, xticks=[], yticks=[])\n",
    "ax.set_frame_on(False)\n",
    "ax.set_axis_off()\n",
    "image_data = (X_std * 255).reshape(image_width, image_height)\n",
    "ax.imshow(image_data, cmap=cm.Greys_r, interpolation='none')"
   ]
  },
  {
   "cell_type": "markdown",
   "metadata": {
    "_cell_guid": "2ce79058-a614-9cd5-e895-6df0d4740b96",
    "_uuid": "b5ad1840107311dc4502be9f4f6b640525bcc95f"
   },
   "source": [
    "## Network architecture\n",
    "\n",
    "Create the model, a convolutional neural network."
   ]
  },
  {
   "cell_type": "code",
   "execution_count": 10,
   "metadata": {
    "scrolled": false
   },
   "outputs": [],
   "source": [
    "tf.set_random_seed(7777)\n",
    "tf.reset_default_graph()\n",
    "\n",
    "# The input data.\n",
    "x = tf.placeholder(tf.float32, [None, 784], name=\"x-input\")\n",
    "y = tf.placeholder(tf.float32, [None,2], name=\"y-input\")\n",
    "\n",
    "learning_rate = tf.placeholder(tf.float32, name=\"learning-rate\")\n",
    "reg_lambda = tf.placeholder(tf.float32, name=\"regularization\")\n",
    "keep_prob = tf.placeholder(tf.float32, name=\"dropout-probability\")\n",
    "\n",
    "# Input Layer\n",
    "# Reshape X to 4-D tensor: [batch_size, width, height, channels]\n",
    "# MNIST images are 28x28 pixels, and have one color channel\n",
    "input_layer = tf.reshape(x, [-1, 28, 28, 1])\n",
    "\n",
    "# Convolutional Layer #1\n",
    "# Computes 32 features using a 5x5 filter with ReLU activation.\n",
    "# Padding is added to preserve width and height.\n",
    "# Input Tensor Shape: [batch_size, 28, 28, 1]\n",
    "# Output Tensor Shape: [batch_size, 28, 28, 32]\n",
    "conv1 = tf.layers.conv2d(\n",
    "  inputs=input_layer,\n",
    "  filters=32,\n",
    "  kernel_size=[5, 5],\n",
    "  padding=\"same\",\n",
    "  activation=tf.nn.relu)\n",
    "\n",
    "# Pooling Layer #1\n",
    "# First max pooling layer with a 2x2 filter and stride of 2\n",
    "# Input Tensor Shape: [batch_size, 28, 28, 32]\n",
    "# Output Tensor Shape: [batch_size, 14, 14, 32]\n",
    "pool1 = tf.layers.max_pooling2d(inputs=conv1, pool_size=[2, 2], strides=2)\n",
    "\n",
    "# Convolutional Layer #2\n",
    "# Computes 64 features using a 5x5 filter.\n",
    "# Padding is added to preserve width and height.\n",
    "# Input Tensor Shape: [batch_size, 14, 14, 32]\n",
    "# Output Tensor Shape: [batch_size, 14, 14, 64]\n",
    "conv2 = tf.layers.conv2d(\n",
    "  inputs=pool1,\n",
    "  filters=64,\n",
    "  kernel_size=[5, 5],\n",
    "  padding=\"same\",\n",
    "  activation=tf.nn.relu)\n",
    "\n",
    "# Pooling Layer #2\n",
    "# Second max pooling layer with a 2x2 filter and stride of 2\n",
    "# Input Tensor Shape: [batch_size, 14, 14, 64]\n",
    "# Output Tensor Shape: [batch_size, 7, 7, 64]\n",
    "pool2 = tf.layers.max_pooling2d(inputs=conv2, pool_size=[2, 2], strides=2)\n",
    "\n",
    "# Flatten tensor into a batch of vectors\n",
    "# Input Tensor Shape: [batch_size, 7, 7, 64]\n",
    "# Output Tensor Shape: [batch_size, 7 * 7 * 64]\n",
    "pool2_flat = tf.reshape(pool2, [-1, 7 * 7 * 64])\n",
    "\n",
    "# Dense Layer\n",
    "# Densely connected layer with 1024 neurons\n",
    "# Input Tensor Shape: [batch_size, 7 * 7 * 64]\n",
    "# Output Tensor Shape: [batch_size, 1024]\n",
    "dense = tf.layers.dense(inputs=pool2_flat, units=1024, activation=tf.nn.relu)\n",
    "\n",
    "# Add dropout operation; 0.6 probability that element will be kept\n",
    "dropout = tf.layers.dropout(\n",
    "  inputs=dense, rate=0.4)\n",
    "\n",
    "# Logits layer\n",
    "# Input Tensor Shape: [batch_size, 1024]\n",
    "# Output Tensor Shape: [batch_size, 10]\n",
    "logits = tf.layers.dense(inputs=dropout, units=2)\n",
    "\n",
    "loss = tf.losses.softmax_cross_entropy(onehot_labels=y, logits=logits)\n",
    "#loss = tf.nn.softmax_cross_entropy_with_logits(labels=y, logits=logits)\n",
    "#loss = tf.reduce_mean(-tf.reduce_sum(y * tf.log(logits), reduction_indices=[1]))\n",
    "\n",
    "#optimizer = tf.train.GradientDescentOptimizer(learning_rate=0.001)\n",
    "optimizer = tf.train.AdamOptimizer(learning_rate=learning_rate)\n",
    "train_op = optimizer.minimize(\n",
    "    loss=loss,\n",
    "    global_step=tf.train.get_global_step())\n",
    "\n",
    "correct_prediction = tf.equal(logits,y)\n",
    "accuracy = tf.reduce_mean(tf.cast(correct_prediction, tf.float32))\n",
    "\n",
    "with tf.name_scope(\"inference\"):\n",
    "    inference = tf.argmax(logits, 1)"
   ]
  },
  {
   "cell_type": "code",
   "execution_count": null,
   "metadata": {
    "_cell_guid": "0dea2c3f-a1b4-53fe-b54b-f92a1a08013f",
    "_uuid": "1aae1b6891de5348acf9b91edc10742686164abc"
   },
   "outputs": [],
   "source": [
    "'''import math\n",
    "\n",
    "tf.set_random_seed(7777)\n",
    "tf.reset_default_graph()\n",
    "\n",
    "# Init the weights with a small amount of noise.\n",
    "def weight_variable(name, shape):\n",
    "    return tf.get_variable(name, shape=shape, initializer=tf.contrib.layers.xavier_initializer())    \n",
    "\n",
    "# Use a slightly positive initial bias to avoid dead ReLUs.\n",
    "def bias_variable(shape):\n",
    "    initial = tf.constant(0.1, shape=shape)\n",
    "    return tf.Variable(initial)\n",
    "\n",
    "# Convolution with stride 1 and enough zero padding to keep width/height the same.\n",
    "def conv2d(x, W):\n",
    "    return tf.nn.conv2d(x, W, strides=[1, 1, 1, 1], padding='SAME')\n",
    "\n",
    "# Plain old max pooling over 2x2 blocks.\n",
    "def max_pool_2x2(x):\n",
    "    return tf.nn.max_pool(x, ksize=[1, 2, 2, 1], strides=[1, 2, 2, 1], padding='SAME')\n",
    "\n",
    "# The input data.\n",
    "x = tf.placeholder(tf.float32, [None, 784], name=\"x-input\")\n",
    "y = tf.placeholder(tf.float32, [None], name=\"y-input\")\n",
    "\n",
    "with tf.name_scope(\"hyperparameters\"):\n",
    "    learning_rate = tf.placeholder(tf.float32, name=\"learning-rate\")\n",
    "    reg_lambda = tf.placeholder(tf.float32, name=\"regularization\")\n",
    "\n",
    "# Reshape x into a 4d tensor. -1 is because we don't know the number of examples\n",
    "# yet. 28x28 is the width and height, 1 is the number of color channels.\n",
    "x_image = tf.reshape(x, [-1, 28, 28, 1])\n",
    "\n",
    "with tf.name_scope(\"conv1_1\"):\n",
    "    W_conv1_1 = weight_variable(\"W_conv1_1\", [5, 5, 1, 32])\n",
    "    b_conv1_1 = bias_variable([32])\n",
    "    h_conv1_1 = tf.nn.relu(conv2d(x_image, W_conv1_1) + b_conv1_1)\n",
    "\n",
    "with tf.name_scope(\"conv1_2\"):\n",
    "    W_conv1_2 = weight_variable(\"W_conv1_2\", [5, 5, 32, 32])\n",
    "    b_conv1_2 = bias_variable([32])\n",
    "    h_conv1_2 = tf.nn.relu(conv2d(h_conv1_1, W_conv1_2) + b_conv1_2)\n",
    "\n",
    "with tf.name_scope(\"pool1\"):\n",
    "    h_pool1 = max_pool_2x2(h_conv1_2)\n",
    "\n",
    "with tf.name_scope(\"conv2_1\"):\n",
    "    W_conv2_1 = weight_variable(\"W_conv2_1\", [5, 5, 32, 64])\n",
    "    b_conv2_1 = bias_variable([64])\n",
    "    h_conv2_1 = tf.nn.relu(conv2d(h_pool1, W_conv2_1) + b_conv2_1)\n",
    "\n",
    "with tf.name_scope(\"conv2_2\"):\n",
    "    W_conv2_2 = weight_variable(\"W_conv2_2\", [5, 5, 64, 64])\n",
    "    b_conv2_2 = bias_variable([64])\n",
    "    h_conv2_2 = tf.nn.relu(conv2d(h_conv2_1, W_conv2_2) + b_conv2_2)\n",
    "\n",
    "with tf.name_scope(\"pool2\"):\n",
    "    h_pool2 = max_pool_2x2(h_conv2_2)\n",
    "\n",
    "    # Reshape the output into a vector that we can pass to the FC layer.\n",
    "    h_flat = tf.reshape(h_pool2, [-1, 7 * 7 * 64])\n",
    "\n",
    "with tf.name_scope(\"fc3\"):\n",
    "    W_fc3 = weight_variable(\"W_fc3\", [7 * 7 * 64, 128])\n",
    "    b_fc3 = bias_variable([128])\n",
    "    h_fc3 = tf.nn.relu(tf.matmul(h_flat, W_fc3) + b_fc3)\n",
    "\n",
    "with tf.name_scope(\"fc3-dropout\"):\n",
    "    # Apply dropout to reduce overfitting.\n",
    "    keep_prob = tf.placeholder(tf.float32, name=\"dropout-probability\")\n",
    "    h_fc3_drop = tf.nn.dropout(h_fc3, keep_prob)\n",
    "\n",
    "with tf.name_scope(\"fc4\"):\n",
    "    W_fc4 = weight_variable(\"W_fc4\", [128, 128])\n",
    "    b_fc4 = bias_variable([128])\n",
    "    h_fc4 = tf.nn.relu(tf.matmul(h_fc3_drop, W_fc4) + b_fc4)\n",
    "\n",
    "with tf.name_scope(\"fc4-dropout\"):\n",
    "    h_fc4_drop = tf.nn.dropout(h_fc4, keep_prob)\n",
    "\n",
    "with tf.name_scope(\"fc5\"):\n",
    "    W_fc5 = weight_variable(\"W_fc5\", [128, 1])\n",
    "    b_fc5 = bias_variable([1])\n",
    "    y_pred = tf.nn.softmax(tf.matmul(h_fc4_drop, W_fc5) + b_fc5)\n",
    "\n",
    "# Softmax, so use cross entropy loss.\n",
    "with tf.name_scope(\"loss-function\"):\n",
    "    loss = tf.reduce_mean(-tf.reduce_sum(y * tf.log(y_pred), reduction_indices=[1]))\n",
    "    \n",
    "    # L2 regularization for the fully connected parameters.\n",
    "    regularizers = (tf.nn.l2_loss(W_fc3) + tf.nn.l2_loss(b_fc3) +\n",
    "                    tf.nn.l2_loss(W_fc4) + tf.nn.l2_loss(b_fc4) +\n",
    "                    tf.nn.l2_loss(W_fc5) + tf.nn.l2_loss(b_fc5))\n",
    "    loss += 5e-4 * regularizers\n",
    "\n",
    "# Use ADAM (instead of plain gradient descent).\n",
    "with tf.name_scope('train'):\n",
    "    optimizer = tf.train.AdamOptimizer(learning_rate)\n",
    "    train_op = optimizer.minimize(loss)\n",
    "\n",
    "# The accuracy op computes the % correct on a dataset with labels. \n",
    "with tf.name_scope(\"accuracy\"):\n",
    "    correct_prediction = tf.equal(y_pred,y)\n",
    "    accuracy = tf.reduce_mean(tf.cast(correct_prediction, tf.float32))\n",
    "\n",
    "# For doing inference on the test set without labels.\n",
    "with tf.name_scope(\"inference\"):\n",
    "    inference = tf.argmax(y_pred, 1)\n",
    "'''"
   ]
  },
  {
   "cell_type": "code",
   "execution_count": 11,
   "metadata": {},
   "outputs": [],
   "source": [
    "init = tf.global_variables_initializer()\n",
    "\n",
    "sess = tf.InteractiveSession()"
   ]
  },
  {
   "cell_type": "markdown",
   "metadata": {
    "_cell_guid": "c4ac49b7-a667-addd-e459-e5a73808414d",
    "_uuid": "9cee7f06c4d3cd73e577cc688b8072f47edc0f37"
   },
   "source": [
    "## Training\n",
    "\n",
    "We train in mini batches. The `next_batch()` function returns the next mini batch of training data. If we reach the end of the training set, it counts as an epoch. We then shuffle the data and start over."
   ]
  },
  {
   "cell_type": "code",
   "execution_count": 12,
   "metadata": {
    "_cell_guid": "6485bfbf-4bee-c4b8-077e-51ff2b649447",
    "_uuid": "4ad980a536daae85ed54fb0a506d043cc88ed168"
   },
   "outputs": [],
   "source": [
    "index_in_epoch = 0\n",
    "epochs_completed = 0\n",
    "\n",
    "# Based on code from learn/datasets/mnist.py\n",
    "def next_batch(batch_size):\n",
    "    global index_in_epoch, epochs_completed, X_train, y_train, y_train_labels\n",
    "    start = index_in_epoch\n",
    "    index_in_epoch += batch_size\n",
    "    \n",
    "    # Epoch completed?\n",
    "    if index_in_epoch > len(X_train):\n",
    "        # Shuffle the data.\n",
    "        perm = np.arange(len(X_train))\n",
    "        np.random.shuffle(perm)\n",
    "        #X_train = X_train[perm]\n",
    "        #y_train = y_train[perm]\n",
    "        #y_train_labels = y_train_labels[perm]\n",
    "\n",
    "        # Start next epoch.\n",
    "        start = 0\n",
    "        index_in_epoch = batch_size\n",
    "        epochs_completed += 1\n",
    "\n",
    "    end = index_in_epoch\n",
    "    return X_train[start:end], y_train[start:end]"
   ]
  },
  {
   "cell_type": "markdown",
   "metadata": {
    "_cell_guid": "90b99508-0bb3-6422-22e1-6b457044df0c",
    "_uuid": "e184bf70b456bcc4906366c52b033996f62c8f06"
   },
   "source": [
    "Helper function that is used by grid search and random search. "
   ]
  },
  {
   "cell_type": "code",
   "execution_count": 13,
   "metadata": {
    "_cell_guid": "ff290e6a-8244-8e89-ab3f-48baaa07446b",
    "_uuid": "a1e07b0866252fcd7415cc434369cfd3d1385f54"
   },
   "outputs": [],
   "source": [
    "import math\n",
    "import time\n",
    "\n",
    "def train_and_validate(max_steps, batch_size, print_every, verbose=True, acceptable_loss=0.001, smooth_loss=False):\n",
    "    sess.run(init)\n",
    "\n",
    "    loss_history = []\n",
    "    loss_avg = 0\n",
    "    smooth_steps = 20\n",
    "\n",
    "    # Used by next_batch()\n",
    "    global index_in_epoch, epochs_completed\n",
    "    index_in_epoch = 0\n",
    "    epochs_completed = 0\n",
    "\n",
    "    for step in range(max_steps):\n",
    "        start_time = time.time()\n",
    "\n",
    "        # Get the next mini-batch of training data.\n",
    "        batch_xs, batch_ys = next_batch(100)\n",
    "        #batch_xs = []\n",
    "        #for elem in range(len(batch_xs_)):\n",
    "        #    batch_xs.append(batch_xs_[elem].flatten())\n",
    "        feed_dict = { x: batch_xs, y: batch_ys, learning_rate: lr, reg_lambda: reg, keep_prob: 0.5 }\n",
    "\n",
    "        # Run the network.\n",
    "        _, loss_value = sess.run([train_op, loss], feed_dict=feed_dict)\n",
    "\n",
    "        duration = time.time() - start_time\n",
    "\n",
    "        # If enabled, we calculate the average loss over the last X steps, since\n",
    "        # the loss can be a bit jittery when using stochastic gradient descent.\n",
    "        if smooth_loss:\n",
    "            loss_avg += loss_value\n",
    "            if step % smooth_steps == 0:\n",
    "                if step > 0: loss_avg /= smooth_steps\n",
    "                loss_history.append(loss_avg)\n",
    "                loss_avg = 0\n",
    "        else:\n",
    "            loss_history.append(loss_value)\n",
    "        \n",
    "        # Print the loss once every so many steps.\n",
    "        if (step % print_every == 0) and verbose:\n",
    "            print(\"    step: %4d, epoch: %2d, loss: %.3f (%.3f sec)\" % \\\n",
    "                      (step, epochs_completed, loss_value, duration))\n",
    "\n",
    "        # Stop the gradient descent if a user-specified loss is reached.\n",
    "        if loss_value <= acceptable_loss or math.isnan(loss_value):\n",
    "            print(\"    Loss is below acceptable limit, ending training after %d steps\" % step)\n",
    "            break\n",
    "\n",
    "    if verbose:\n",
    "        print(\"Final loss: %f\" % loss_value)\n",
    "\n",
    "    # Calculate cross validation score.\n",
    "    score = sess.run(accuracy, feed_dict={x: X_val, y: y_val, keep_prob: 1.0})\n",
    "    if verbose:\n",
    "        print(\"Validation score: %g\" % score)\n",
    "\n",
    "    return loss_history, loss_value, score"
   ]
  },
  {
   "cell_type": "markdown",
   "metadata": {
    "_cell_guid": "1b74415e-a4d0-90f9-1ca7-9546b7220bbc",
    "_uuid": "90a5c1f326a6ae800baed170d645e491766d567a"
   },
   "source": [
    "To do a grid search to find the best learning rate and regularization, run the next cell."
   ]
  },
  {
   "cell_type": "code",
   "execution_count": 14,
   "metadata": {
    "_cell_guid": "1100d49f-59f5-b97e-aa61-a2da73042c0f",
    "_uuid": "7ddb193e56bd5bef8bbc9edc5467b141106a4027"
   },
   "outputs": [],
   "source": [
    "# Hyperparameters used in the grid search\n",
    "learning_rates = [0.001, 0.003, 0.01]\n",
    "reg_lambdas = [0, 0.1, 0.3]            # regularization strength\n",
    "\n",
    "from itertools import product\n",
    "grid = list(product(learning_rates, reg_lambdas))\n",
    "\n",
    "verbose = True"
   ]
  },
  {
   "cell_type": "markdown",
   "metadata": {
    "_cell_guid": "b46aa295-0e64-18b5-6a5f-156aa2e7542b",
    "_uuid": "49fd6788c7a5252b17deb865d71fc389eb1b01ca"
   },
   "source": [
    "To do a random search, run the next cell. \n",
    "\n",
    "This gives better results than grid search. Because we're doing many random searches, you want to limit the number of epochs or it takes forever. First you run a coarse search, then you run a finer search."
   ]
  },
  {
   "cell_type": "code",
   "execution_count": 15,
   "metadata": {
    "_cell_guid": "16658ad7-a3c8-2aed-6ff1-bc9c983d6457",
    "_uuid": "b5fbd0597959c2e9b21ae52d90cb19bd0a6cd0b5"
   },
   "outputs": [],
   "source": [
    "# How many random searches to perform\n",
    "max_search = 10\n",
    "\n",
    "grid = []\n",
    "for i in range(max_search):\n",
    "    lr = 10**np.random.uniform(-5, -2)\n",
    "    reg = 10**np.random.uniform(-3, 1)\n",
    "    grid.append((lr, reg))\n",
    "    \n",
    "verbose = False"
   ]
  },
  {
   "cell_type": "markdown",
   "metadata": {
    "_cell_guid": "de35c96b-35c6-de03-d94f-c3d0f517f843",
    "_uuid": "d1a30530dffaee110129d732263a5ae4be2087b7"
   },
   "source": [
    "To do final training before you do inference, run the next cell. This uses the learning rate and regularization that you found with grid search or random search."
   ]
  },
  {
   "cell_type": "code",
   "execution_count": 16,
   "metadata": {
    "_cell_guid": "323b25b1-9371-408b-692c-f93e90a3960d",
    "_uuid": "adda18ab2527c7f9da9d3770df454492a0dc5c6e"
   },
   "outputs": [],
   "source": [
    "grid = [(0.0003, 0.0)]\n",
    "verbose = True"
   ]
  },
  {
   "cell_type": "markdown",
   "metadata": {
    "_cell_guid": "dc99fa0f-8a16-8407-bc10-f584ef10a6b5",
    "_uuid": "a0e52e7512fb92313a26397894159ed04c8cf65c"
   },
   "source": [
    "Train the model."
   ]
  },
  {
   "cell_type": "code",
   "execution_count": 17,
   "metadata": {
    "_cell_guid": "4d6e09c2-0c7b-d20b-5224-d413ee90a108",
    "_uuid": "b22c3faf5c6d7f285e0b4a9382df558c4bfed4f2",
    "scrolled": false
   },
   "outputs": [
    {
     "name": "stdout",
     "output_type": "stream",
     "text": [
      "Training 1279 examples\n",
      "*** learning rate: 0.0003, regularization: 0\n",
      "    step:    0, epoch:  0, loss: 16.187 (0.705 sec)\n",
      "    step:    5, epoch:  0, loss: 23.707 (0.649 sec)\n",
      "    step:   10, epoch:  0, loss: 8.971 (0.645 sec)\n",
      "    step:   15, epoch:  1, loss: 0.186 (0.647 sec)\n",
      "    step:   20, epoch:  1, loss: 0.881 (0.643 sec)\n",
      "    step:   25, epoch:  2, loss: 0.105 (0.648 sec)\n",
      "    step:   30, epoch:  2, loss: 0.112 (0.718 sec)\n",
      "    step:   35, epoch:  2, loss: 0.230 (0.656 sec)\n",
      "    step:   40, epoch:  3, loss: 0.103 (0.644 sec)\n",
      "    step:   45, epoch:  3, loss: 0.136 (0.646 sec)\n",
      "    step:   50, epoch:  4, loss: 0.045 (0.949 sec)\n",
      "    step:   55, epoch:  4, loss: 0.044 (0.666 sec)\n",
      "    step:   60, epoch:  5, loss: 0.083 (0.648 sec)\n",
      "    step:   65, epoch:  5, loss: 0.104 (0.661 sec)\n",
      "    step:   70, epoch:  5, loss: 0.026 (0.652 sec)\n",
      "    step:   75, epoch:  6, loss: 0.012 (0.674 sec)\n",
      "    step:   80, epoch:  6, loss: 0.018 (0.653 sec)\n",
      "    step:   85, epoch:  7, loss: 0.009 (0.649 sec)\n",
      "    step:   90, epoch:  7, loss: 0.017 (0.653 sec)\n",
      "    step:   95, epoch:  7, loss: 0.010 (0.644 sec)\n",
      "    step:  100, epoch:  8, loss: 0.010 (0.653 sec)\n",
      "    step:  105, epoch:  8, loss: 0.007 (0.648 sec)\n",
      "    step:  110, epoch:  9, loss: 0.005 (0.649 sec)\n",
      "    step:  115, epoch:  9, loss: 0.003 (0.641 sec)\n",
      "    step:  120, epoch: 10, loss: 0.007 (0.646 sec)\n",
      "    step:  125, epoch: 10, loss: 0.005 (0.642 sec)\n",
      "    step:  130, epoch: 10, loss: 0.003 (0.643 sec)\n",
      "    step:  135, epoch: 11, loss: 0.002 (0.643 sec)\n",
      "    step:  140, epoch: 11, loss: 0.003 (0.645 sec)\n",
      "    step:  145, epoch: 12, loss: 0.003 (0.649 sec)\n",
      "    step:  150, epoch: 12, loss: 0.003 (0.690 sec)\n",
      "    step:  155, epoch: 12, loss: 0.002 (0.638 sec)\n",
      "    step:  160, epoch: 13, loss: 0.003 (0.638 sec)\n",
      "    step:  165, epoch: 13, loss: 0.002 (0.644 sec)\n",
      "    step:  170, epoch: 14, loss: 0.001 (0.651 sec)\n",
      "    step:  175, epoch: 14, loss: 0.001 (0.663 sec)\n",
      "    step:  180, epoch: 15, loss: 0.002 (0.648 sec)\n",
      "    step:  185, epoch: 15, loss: 0.002 (0.648 sec)\n",
      "    step:  190, epoch: 15, loss: 0.001 (0.642 sec)\n",
      "    step:  195, epoch: 16, loss: 0.001 (0.640 sec)\n",
      "Final loss: 0.000699\n",
      "Validation score: 0\n",
      "\n",
      "Best validation score: 0\n",
      "Best parameters: (0.0003, 0.0)\n",
      "Time: 132.904763 sec\n"
     ]
    }
   ],
   "source": [
    "print(\"Training %d examples\" % X_train.shape[0])\n",
    "\n",
    "scores = []\n",
    "start_time = time.time()\n",
    "loss_history = {}\n",
    "\n",
    "for i, params in enumerate(grid):\n",
    "    lr, reg = params\n",
    "    \n",
    "    if verbose:\n",
    "        print(\"*** learning rate: %g, regularization: %g\" % (lr, reg))\n",
    "    \n",
    "    hist, loss_value, score = train_and_validate(max_steps=200, batch_size=20, print_every=5,\\\n",
    "                                                 verbose=verbose, acceptable_loss=0.00001, smooth_loss=False)\n",
    "\n",
    "    if not verbose:\n",
    "        print(\"score: %0.6f, loss: %0.6f, rate: %0.6f, reg: %0.6f (%d/%d)\" % (score, loss_value, lr, reg, i+1, max_search))\n",
    "\n",
    "    key = \"learn: %g, reg: %g\" % (lr, reg)\n",
    "    loss_history[key] = hist\n",
    "    scores.append(score)\n",
    "\n",
    "    if verbose:\n",
    "        print()\n",
    "\n",
    "print(\"Best validation score: %g\" % np.max(scores))\n",
    "print(\"Best parameters:\", grid[np.argmax(scores)])\n",
    "print(\"Time: %f sec\" % (time.time() - start_time))"
   ]
  },
  {
   "cell_type": "markdown",
   "metadata": {
    "_cell_guid": "1c51d4b6-a692-a733-e184-3e032c480d40",
    "_uuid": "81dfda83ab35b41cd5be6e2c6aaac1ff5bc62c2e"
   },
   "source": [
    "## Inference\n",
    "\n",
    "Using the trained network to predict results."
   ]
  },
  {
   "cell_type": "code",
   "execution_count": 18,
   "metadata": {
    "_cell_guid": "0a709d07-b529-f414-550b-32a3da4a7f67",
    "_uuid": "97174894f25a64d6759872065150fb1bc8ef8807"
   },
   "outputs": [
    {
     "name": "stdout",
     "output_type": "stream",
     "text": [
      "Train accuracy: 0.0\n",
      "duration 2.672502 sec\n",
      "Validation accuracy: 0.0\n",
      "Test accuracy: 0.0\n"
     ]
    }
   ],
   "source": [
    "start_time = time.time()\n",
    "\n",
    "# Calculate accuracy on training data. This should be a good score, \n",
    "# but not *too* good or we're overfitting.\n",
    "\n",
    "print('Train accuracy:',sess.run(accuracy, feed_dict={x: X_train, y: y_train, keep_prob: 1.0}))\n",
    "\n",
    "duration = time.time() - start_time\n",
    "print(\"duration %f sec\" % duration)\n",
    "\n",
    "# Calculate accuracy on validation data.\n",
    "print('Validation accuracy:',sess.run(accuracy, feed_dict={x: X_val, y: y_val, keep_prob: 1.0}))\n",
    "\n",
    "# Calculate accuracy on test data. We do have labels for these examples, \n",
    "# but the examples themselves were not used to train the network.\n",
    "print('Test accuracy:',sess.run(accuracy, feed_dict={x: X_test, y: y_test, keep_prob: 1.0}))"
   ]
  },
  {
   "cell_type": "markdown",
   "metadata": {
    "_cell_guid": "dd71f751-5c7c-9ea9-fcaf-61e75411fab2",
    "_uuid": "b5d52f6bc88959a1d086a89cb6c33c5fdba1a540"
   },
   "source": [
    "## Confusion matrix\n",
    "\n",
    "This shows how often any two classes are mixed up by the prediction. `C[i, j]` is the number of observations known to be in group `i` but predicted to be in group `j`."
   ]
  },
  {
   "cell_type": "code",
   "execution_count": 19,
   "metadata": {
    "_cell_guid": "80d4215f-cc3c-be22-f3ee-792e5c804b89",
    "_uuid": "82366af365dedaf84681628581d718593b5a5cbd"
   },
   "outputs": [
    {
     "name": "stdout",
     "output_type": "stream",
     "text": [
      "[[  32.   17.]\n",
      " [   0.  378.]]\n"
     ]
    },
    {
     "data": {
      "image/png": "[encoded data removed]",
      "text/plain": [
       "<matplotlib.figure.Figure at 0x7f3ed08e92b0>"
      ]
     },
     "metadata": {},
     "output_type": "display_data"
    }
   ],
   "source": [
    "def confusion_matrix(target, predicted):\n",
    "    assert(target.shape == predicted.shape)\n",
    "    \n",
    "    num_classes = len(np.unique(target))\n",
    "    confusion = np.zeros((num_classes, num_classes))\n",
    "    \n",
    "    for i in range(len(target)):      \n",
    "        confusion[target[i], predicted[i]] += 1\n",
    "    \n",
    "    return confusion\n",
    "\n",
    "def plot_confusion_matrix(conf):\n",
    "    plt.imshow(conf, interpolation='nearest', cmap=plt.cm.binary)\n",
    "    plt.xticks(range(conf.shape[1]))\n",
    "    plt.yticks(range(conf.shape[0]))\n",
    "    plt.xlabel(\"predicted label\")\n",
    "    plt.ylabel(\"true label\")\n",
    "    plt.grid(False)\n",
    "    plt.colorbar()\n",
    "    \n",
    "pred = sess.run(inference, feed_dict={x: X_test, keep_prob: 1.0})\n",
    "\n",
    "conf = confusion_matrix(np.asarray(y_test_labels), pred)\n",
    "print(conf)\n",
    "\n",
    "plot_confusion_matrix(conf)"
   ]
  },
  {
   "cell_type": "markdown",
   "metadata": {
    "_cell_guid": "170d7d6c-cdbb-eb7a-9477-94db5054885f",
    "_uuid": "ef73974105690797093ede7db189b27920f5c51a"
   },
   "source": [
    "### Plot of the loss\n",
    "\n",
    "By showing how the loss changes with every training epoch, we can see if the learning rate is any good."
   ]
  },
  {
   "cell_type": "code",
   "execution_count": 20,
   "metadata": {
    "_cell_guid": "2713cc70-13c7-18cd-1c05-cd46ff5fc6ec",
    "_uuid": "133e463ae8869633539e1e8fa42b47b6c172e842"
   },
   "outputs": [
    {
     "data": {
      "image/png": "[encoded data removed]",
      "text/plain": [
       "<matplotlib.figure.Figure at 0x7f3ed0a75080>"
      ]
     },
     "metadata": {},
     "output_type": "display_data"
    }
   ],
   "source": [
    "for k, v in loss_history.items():\n",
    "    plt.plot(v, label=k)\n",
    "plt.ylabel(\"Loss\")\n",
    "plt.xlabel(\"Time\")\n",
    "plt.legend()\n",
    "plt.grid(True)"
   ]
  },
  {
   "cell_type": "code",
   "execution_count": null,
   "metadata": {},
   "outputs": [],
   "source": []
  }
 ],
 "metadata": {
  "_change_revision": 0,
  "_is_fork": false,
  "kernelspec": {
   "display_name": "Python 3",
   "language": "python",
   "name": "python3"
  },
  "language_info": {
   "codemirror_mode": {
    "name": "ipython",
    "version": 3
   },
   "file_extension": ".py",
   "mimetype": "text/x-python",
   "name": "python",
   "nbconvert_exporter": "python",
   "pygments_lexer": "ipython3",
   "version": "3.6.2"
  }
 },
 "nbformat": 4,
 "nbformat_minor": 1
}
